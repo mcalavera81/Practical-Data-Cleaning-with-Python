{
 "cells": [
  {
   "cell_type": "markdown",
   "metadata": {},
   "source": [
    "## Case Study: Preparing Lobste.rs Stories for Machine Learning\n",
    "\n",
    "In this case study, we'll be preparing [lobste.rs](http://lobste.rs) stories for machine learning. To do so, we need to extract features and clean up the messy parts of the data. We'll be using Pandas along with `sklearn.preprocessing` and `fuzzywuzzy`. "
   ]
  },
  {
   "cell_type": "code",
   "execution_count": 1,
   "metadata": {
    "collapsed": true
   },
   "outputs": [],
   "source": [
    "import pandas as pd\n",
    "import requests\n",
    "from fuzzywuzzy import fuzz\n",
    "from collections import Counter\n",
    "from sklearn import preprocessing"
   ]
  },
  {
   "cell_type": "markdown",
   "metadata": {},
   "source": [
    "### If you'd rather read from the API to get the latest, uncomment the details (and add comment to the final line)"
   ]
  },
  {
   "cell_type": "code",
   "execution_count": 5,
   "metadata": {
    "collapsed": true
   },
   "outputs": [],
   "source": [
    "resp = requests.get('https://lobste.rs/hottest.json')\n",
    "stories = pd.read_json(resp.content)\n",
    "stories = stories.set_index('short_id')\n",
    "stories.to_json('hottest.json')\n",
    "# stories = pd.tread_json('../data/all_lobsters.json')"
   ]
  },
  {
   "cell_type": "code",
   "execution_count": 6,
   "metadata": {
    "collapsed": true
   },
   "outputs": [
    {
     "data": {
      "text/html": [
       "<div>\n",
       "<style scoped>\n",
       "    .dataframe tbody tr th:only-of-type {\n",
       "        vertical-align: middle;\n",
       "    }\n",
       "\n",
       "    .dataframe tbody tr th {\n",
       "        vertical-align: top;\n",
       "    }\n",
       "\n",
       "    .dataframe thead th {\n",
       "        text-align: right;\n",
       "    }\n",
       "</style>\n",
       "<table border=\"1\" class=\"dataframe\">\n",
       "  <thead>\n",
       "    <tr style=\"text-align: right;\">\n",
       "      <th></th>\n",
       "      <th>comment_count</th>\n",
       "      <th>comments_url</th>\n",
       "      <th>created_at</th>\n",
       "      <th>description</th>\n",
       "      <th>downvotes</th>\n",
       "      <th>score</th>\n",
       "      <th>short_id_url</th>\n",
       "      <th>submitter_user</th>\n",
       "      <th>tags</th>\n",
       "      <th>title</th>\n",
       "      <th>upvotes</th>\n",
       "      <th>url</th>\n",
       "    </tr>\n",
       "    <tr>\n",
       "      <th>short_id</th>\n",
       "      <th></th>\n",
       "      <th></th>\n",
       "      <th></th>\n",
       "      <th></th>\n",
       "      <th></th>\n",
       "      <th></th>\n",
       "      <th></th>\n",
       "      <th></th>\n",
       "      <th></th>\n",
       "      <th></th>\n",
       "      <th></th>\n",
       "      <th></th>\n",
       "    </tr>\n",
       "  </thead>\n",
       "  <tbody>\n",
       "    <tr>\n",
       "      <th>fskvfo</th>\n",
       "      <td>3</td>\n",
       "      <td>https://lobste.rs/s/fskvfo/security_footgun_etcd</td>\n",
       "      <td>2018-03-18 13:27:27</td>\n",
       "      <td></td>\n",
       "      <td>0</td>\n",
       "      <td>13</td>\n",
       "      <td>https://lobste.rs/s/fskvfo</td>\n",
       "      <td>{'username': 'calvin', 'created_at': '2014-07-...</td>\n",
       "      <td>[devops, security]</td>\n",
       "      <td>The security footgun in etcd</td>\n",
       "      <td>13</td>\n",
       "      <td>https://elweb.co/the-security-footgun-in-etcd/</td>\n",
       "    </tr>\n",
       "    <tr>\n",
       "      <th>d42dv7</th>\n",
       "      <td>0</td>\n",
       "      <td>https://lobste.rs/s/d42dv7/types_indeterminates</td>\n",
       "      <td>2018-03-18 16:13:06</td>\n",
       "      <td></td>\n",
       "      <td>0</td>\n",
       "      <td>3</td>\n",
       "      <td>https://lobste.rs/s/d42dv7</td>\n",
       "      <td>{'username': 'HenriTuhola', 'created_at': '201...</td>\n",
       "      <td>[ml, plt]</td>\n",
       "      <td>Types and Indeterminates</td>\n",
       "      <td>3</td>\n",
       "      <td>http://boxbase.org/entries/2018/mar/19/types-a...</td>\n",
       "    </tr>\n",
       "    <tr>\n",
       "      <th>xss2yb</th>\n",
       "      <td>15</td>\n",
       "      <td>https://lobste.rs/s/xss2yb/life_land_unqualifi...</td>\n",
       "      <td>2018-03-17 14:05:38</td>\n",
       "      <td></td>\n",
       "      <td>0</td>\n",
       "      <td>13</td>\n",
       "      <td>https://lobste.rs/s/xss2yb</td>\n",
       "      <td>{'username': 'maxhallinan', 'created_at': '201...</td>\n",
       "      <td>[elm, practices]</td>\n",
       "      <td>Life in the land of unqualified imports</td>\n",
       "      <td>13</td>\n",
       "      <td>https://maxhallinan.com/posts/2018/03/17/life-...</td>\n",
       "    </tr>\n",
       "    <tr>\n",
       "      <th>zgu5en</th>\n",
       "      <td>0</td>\n",
       "      <td>https://lobste.rs/s/zgu5en/gaijin_engineer_tokyo</td>\n",
       "      <td>2018-03-18 16:23:28</td>\n",
       "      <td></td>\n",
       "      <td>0</td>\n",
       "      <td>4</td>\n",
       "      <td>https://lobste.rs/s/zgu5en</td>\n",
       "      <td>{'username': 'friendlysock', 'created_at': '20...</td>\n",
       "      <td>[culture]</td>\n",
       "      <td>Gaijin Engineer in Tokyo</td>\n",
       "      <td>4</td>\n",
       "      <td>https://medium.com/@xevix/gaijin-engineer-in-t...</td>\n",
       "    </tr>\n",
       "    <tr>\n",
       "      <th>omhcqr</th>\n",
       "      <td>0</td>\n",
       "      <td>https://lobste.rs/s/omhcqr/aigo_chinese_encryp...</td>\n",
       "      <td>2018-03-18 15:03:25</td>\n",
       "      <td>&lt;p&gt;&lt;a href=\"https://syscall.eu/blog/2018/03/12...</td>\n",
       "      <td>0</td>\n",
       "      <td>2</td>\n",
       "      <td>https://lobste.rs/s/omhcqr</td>\n",
       "      <td>{'username': 'sevan', 'created_at': '2013-06-0...</td>\n",
       "      <td>[hardware, security]</td>\n",
       "      <td>Aigo Chinese encrypted HDD − Part 1: taking it...</td>\n",
       "      <td>2</td>\n",
       "      <td>https://syscall.eu/blog/2018/03/12/aigo_part1/</td>\n",
       "    </tr>\n",
       "  </tbody>\n",
       "</table>\n",
       "</div>"
      ],
      "text/plain": [
       "          comment_count                                       comments_url  \\\n",
       "short_id                                                                     \n",
       "fskvfo                3   https://lobste.rs/s/fskvfo/security_footgun_etcd   \n",
       "d42dv7                0    https://lobste.rs/s/d42dv7/types_indeterminates   \n",
       "xss2yb               15  https://lobste.rs/s/xss2yb/life_land_unqualifi...   \n",
       "zgu5en                0   https://lobste.rs/s/zgu5en/gaijin_engineer_tokyo   \n",
       "omhcqr                0  https://lobste.rs/s/omhcqr/aigo_chinese_encryp...   \n",
       "\n",
       "                  created_at  \\\n",
       "short_id                       \n",
       "fskvfo   2018-03-18 13:27:27   \n",
       "d42dv7   2018-03-18 16:13:06   \n",
       "xss2yb   2018-03-17 14:05:38   \n",
       "zgu5en   2018-03-18 16:23:28   \n",
       "omhcqr   2018-03-18 15:03:25   \n",
       "\n",
       "                                                description  downvotes  score  \\\n",
       "short_id                                                                        \n",
       "fskvfo                                                               0     13   \n",
       "d42dv7                                                               0      3   \n",
       "xss2yb                                                               0     13   \n",
       "zgu5en                                                               0      4   \n",
       "omhcqr    <p><a href=\"https://syscall.eu/blog/2018/03/12...          0      2   \n",
       "\n",
       "                        short_id_url  \\\n",
       "short_id                               \n",
       "fskvfo    https://lobste.rs/s/fskvfo   \n",
       "d42dv7    https://lobste.rs/s/d42dv7   \n",
       "xss2yb    https://lobste.rs/s/xss2yb   \n",
       "zgu5en    https://lobste.rs/s/zgu5en   \n",
       "omhcqr    https://lobste.rs/s/omhcqr   \n",
       "\n",
       "                                             submitter_user  \\\n",
       "short_id                                                      \n",
       "fskvfo    {'username': 'calvin', 'created_at': '2014-07-...   \n",
       "d42dv7    {'username': 'HenriTuhola', 'created_at': '201...   \n",
       "xss2yb    {'username': 'maxhallinan', 'created_at': '201...   \n",
       "zgu5en    {'username': 'friendlysock', 'created_at': '20...   \n",
       "omhcqr    {'username': 'sevan', 'created_at': '2013-06-0...   \n",
       "\n",
       "                          tags  \\\n",
       "short_id                         \n",
       "fskvfo      [devops, security]   \n",
       "d42dv7               [ml, plt]   \n",
       "xss2yb        [elm, practices]   \n",
       "zgu5en               [culture]   \n",
       "omhcqr    [hardware, security]   \n",
       "\n",
       "                                                      title  upvotes  \\\n",
       "short_id                                                               \n",
       "fskvfo                         The security footgun in etcd       13   \n",
       "d42dv7                             Types and Indeterminates        3   \n",
       "xss2yb              Life in the land of unqualified imports       13   \n",
       "zgu5en                             Gaijin Engineer in Tokyo        4   \n",
       "omhcqr    Aigo Chinese encrypted HDD − Part 1: taking it...        2   \n",
       "\n",
       "                                                        url  \n",
       "short_id                                                     \n",
       "fskvfo       https://elweb.co/the-security-footgun-in-etcd/  \n",
       "d42dv7    http://boxbase.org/entries/2018/mar/19/types-a...  \n",
       "xss2yb    https://maxhallinan.com/posts/2018/03/17/life-...  \n",
       "zgu5en    https://medium.com/@xevix/gaijin-engineer-in-t...  \n",
       "omhcqr       https://syscall.eu/blog/2018/03/12/aigo_part1/  "
      ]
     },
     "execution_count": 6,
     "metadata": {},
     "output_type": "execute_result"
    }
   ],
   "source": [
    "stories.head()"
   ]
  },
  {
   "cell_type": "code",
   "execution_count": 4,
   "metadata": {
    "collapsed": true
   },
   "outputs": [
    {
     "data": {
      "text/plain": [
       "comment_count              int64\n",
       "comments_url              object\n",
       "created_at        datetime64[ns]\n",
       "description               object\n",
       "downvotes                  int64\n",
       "score                      int64\n",
       "short_id_url              object\n",
       "submitter_user            object\n",
       "tags                      object\n",
       "title                     object\n",
       "upvotes                    int64\n",
       "url                       object\n",
       "dtype: object"
      ]
     },
     "execution_count": 4,
     "metadata": {},
     "output_type": "execute_result"
    }
   ],
   "source": [
    "stories.dtypes"
   ]
  },
  {
   "cell_type": "markdown",
   "metadata": {},
   "source": [
    "### Let's take a look at the submitter_user field, as it appears like a dict"
   ]
  },
  {
   "cell_type": "code",
   "execution_count": 7,
   "metadata": {
    "collapsed": true
   },
   "outputs": [
    {
     "data": {
      "text/plain": [
       "{'about': '*Literally* full of ants.\\r\\n\\r\\nFriendly engineer and human being.\\r\\n\\r\\nStrong opinions held weakly, sometimes weekly.\\r\\n\\r\\nHit me up at \"ch\" plus \"ris\" (at) \"k\" plus \"e\" plus \"dagital\" dot com.\\r\\n\\r\\n> Gentrification is the process by which nebulous threats are pacified and alchemised into money. \\r\\n',\n",
       " 'avatar_url': 'https://lobste.rs/avatars/friendlysock-100.png',\n",
       " 'created_at': '2014-02-20T00:43:41.000-06:00',\n",
       " 'is_admin': False,\n",
       " 'is_moderator': False,\n",
       " 'karma': 14747,\n",
       " 'username': 'friendlysock'}"
      ]
     },
     "execution_count": 7,
     "metadata": {},
     "output_type": "execute_result"
    }
   ],
   "source": [
    "stories.submitter_user.iloc[3]"
   ]
  },
  {
   "cell_type": "code",
   "execution_count": 8,
   "metadata": {
    "collapsed": true
   },
   "outputs": [],
   "source": [
    "user_df = stories['submitter_user'].apply(pd.Series)"
   ]
  },
  {
   "cell_type": "code",
   "execution_count": 9,
   "metadata": {
    "collapsed": true
   },
   "outputs": [
    {
     "data": {
      "text/html": [
       "<div>\n",
       "<style scoped>\n",
       "    .dataframe tbody tr th:only-of-type {\n",
       "        vertical-align: middle;\n",
       "    }\n",
       "\n",
       "    .dataframe tbody tr th {\n",
       "        vertical-align: top;\n",
       "    }\n",
       "\n",
       "    .dataframe thead th {\n",
       "        text-align: right;\n",
       "    }\n",
       "</style>\n",
       "<table border=\"1\" class=\"dataframe\">\n",
       "  <thead>\n",
       "    <tr style=\"text-align: right;\">\n",
       "      <th></th>\n",
       "      <th>about</th>\n",
       "      <th>avatar_url</th>\n",
       "      <th>created_at</th>\n",
       "      <th>github_username</th>\n",
       "      <th>is_admin</th>\n",
       "      <th>is_moderator</th>\n",
       "      <th>karma</th>\n",
       "      <th>twitter_username</th>\n",
       "      <th>username</th>\n",
       "    </tr>\n",
       "    <tr>\n",
       "      <th>short_id</th>\n",
       "      <th></th>\n",
       "      <th></th>\n",
       "      <th></th>\n",
       "      <th></th>\n",
       "      <th></th>\n",
       "      <th></th>\n",
       "      <th></th>\n",
       "      <th></th>\n",
       "      <th></th>\n",
       "    </tr>\n",
       "  </thead>\n",
       "  <tbody>\n",
       "    <tr>\n",
       "      <th>fskvfo</th>\n",
       "      <td>Soon we will all have special names... names d...</td>\n",
       "      <td>https://lobste.rs/avatars/calvin-100.png</td>\n",
       "      <td>2014-07-01T06:47:13.000-05:00</td>\n",
       "      <td>NattyNarwhal</td>\n",
       "      <td>False</td>\n",
       "      <td>False</td>\n",
       "      <td>24328.0</td>\n",
       "      <td>NaN</td>\n",
       "      <td>calvin</td>\n",
       "    </tr>\n",
       "    <tr>\n",
       "      <th>d42dv7</th>\n",
       "      <td></td>\n",
       "      <td>https://lobste.rs/avatars/HenriTuhola-100.png</td>\n",
       "      <td>2017-10-11T17:37:54.000-05:00</td>\n",
       "      <td>NaN</td>\n",
       "      <td>False</td>\n",
       "      <td>False</td>\n",
       "      <td>41.0</td>\n",
       "      <td>NaN</td>\n",
       "      <td>HenriTuhola</td>\n",
       "    </tr>\n",
       "    <tr>\n",
       "      <th>xss2yb</th>\n",
       "      <td>[https://www.maxhallinan.com/](https://www.max...</td>\n",
       "      <td>https://lobste.rs/avatars/maxhallinan-100.png</td>\n",
       "      <td>2017-07-05T09:16:05.000-05:00</td>\n",
       "      <td>maxhallinan</td>\n",
       "      <td>False</td>\n",
       "      <td>False</td>\n",
       "      <td>164.0</td>\n",
       "      <td>NaN</td>\n",
       "      <td>maxhallinan</td>\n",
       "    </tr>\n",
       "    <tr>\n",
       "      <th>zgu5en</th>\n",
       "      <td>*Literally* full of ants.\\r\\n\\r\\nFriendly engi...</td>\n",
       "      <td>https://lobste.rs/avatars/friendlysock-100.png</td>\n",
       "      <td>2014-02-20T00:43:41.000-06:00</td>\n",
       "      <td>NaN</td>\n",
       "      <td>False</td>\n",
       "      <td>False</td>\n",
       "      <td>14747.0</td>\n",
       "      <td>NaN</td>\n",
       "      <td>friendlysock</td>\n",
       "    </tr>\n",
       "    <tr>\n",
       "      <th>omhcqr</th>\n",
       "      <td></td>\n",
       "      <td>https://lobste.rs/avatars/sevan-100.png</td>\n",
       "      <td>2013-06-02T17:42:02.000-05:00</td>\n",
       "      <td>NaN</td>\n",
       "      <td>False</td>\n",
       "      <td>False</td>\n",
       "      <td>3402.0</td>\n",
       "      <td>NaN</td>\n",
       "      <td>sevan</td>\n",
       "    </tr>\n",
       "  </tbody>\n",
       "</table>\n",
       "</div>"
      ],
      "text/plain": [
       "                                                      about  \\\n",
       "short_id                                                      \n",
       "fskvfo    Soon we will all have special names... names d...   \n",
       "d42dv7                                                        \n",
       "xss2yb    [https://www.maxhallinan.com/](https://www.max...   \n",
       "zgu5en    *Literally* full of ants.\\r\\n\\r\\nFriendly engi...   \n",
       "omhcqr                                                        \n",
       "\n",
       "                                              avatar_url  \\\n",
       "short_id                                                   \n",
       "fskvfo          https://lobste.rs/avatars/calvin-100.png   \n",
       "d42dv7     https://lobste.rs/avatars/HenriTuhola-100.png   \n",
       "xss2yb     https://lobste.rs/avatars/maxhallinan-100.png   \n",
       "zgu5en    https://lobste.rs/avatars/friendlysock-100.png   \n",
       "omhcqr           https://lobste.rs/avatars/sevan-100.png   \n",
       "\n",
       "                             created_at github_username  is_admin  \\\n",
       "short_id                                                            \n",
       "fskvfo    2014-07-01T06:47:13.000-05:00    NattyNarwhal     False   \n",
       "d42dv7    2017-10-11T17:37:54.000-05:00             NaN     False   \n",
       "xss2yb    2017-07-05T09:16:05.000-05:00     maxhallinan     False   \n",
       "zgu5en    2014-02-20T00:43:41.000-06:00             NaN     False   \n",
       "omhcqr    2013-06-02T17:42:02.000-05:00             NaN     False   \n",
       "\n",
       "          is_moderator    karma twitter_username      username  \n",
       "short_id                                                        \n",
       "fskvfo           False  24328.0              NaN        calvin  \n",
       "d42dv7           False     41.0              NaN   HenriTuhola  \n",
       "xss2yb           False    164.0              NaN   maxhallinan  \n",
       "zgu5en           False  14747.0              NaN  friendlysock  \n",
       "omhcqr           False   3402.0              NaN         sevan  "
      ]
     },
     "execution_count": 9,
     "metadata": {},
     "output_type": "execute_result"
    }
   ],
   "source": [
    "user_df.head()"
   ]
  },
  {
   "cell_type": "markdown",
   "metadata": {},
   "source": [
    "### Can we combine the user data without potential column overlap?"
   ]
  },
  {
   "cell_type": "code",
   "execution_count": 10,
   "metadata": {
    "collapsed": true
   },
   "outputs": [
    {
     "data": {
      "text/plain": [
       "{'created_at'}"
      ]
     },
     "execution_count": 10,
     "metadata": {},
     "output_type": "execute_result"
    }
   ],
   "source": [
    "set(user_df.columns).intersection(stories.columns)"
   ]
  },
  {
   "cell_type": "code",
   "execution_count": 12,
   "metadata": {
    "collapsed": true
   },
   "outputs": [],
   "source": [
    "user_df = user_df.rename(columns={'created_at': 'user_created_at'})"
   ]
  },
  {
   "cell_type": "code",
   "execution_count": 13,
   "metadata": {
    "collapsed": true
   },
   "outputs": [],
   "source": [
    "stories = pd.concat([stories.drop(['submitter_user'], axis=1), \n",
    "                     user_df], axis=1)"
   ]
  },
  {
   "cell_type": "code",
   "execution_count": 14,
   "metadata": {
    "collapsed": true
   },
   "outputs": [
    {
     "data": {
      "text/html": [
       "<div>\n",
       "<style scoped>\n",
       "    .dataframe tbody tr th:only-of-type {\n",
       "        vertical-align: middle;\n",
       "    }\n",
       "\n",
       "    .dataframe tbody tr th {\n",
       "        vertical-align: top;\n",
       "    }\n",
       "\n",
       "    .dataframe thead th {\n",
       "        text-align: right;\n",
       "    }\n",
       "</style>\n",
       "<table border=\"1\" class=\"dataframe\">\n",
       "  <thead>\n",
       "    <tr style=\"text-align: right;\">\n",
       "      <th></th>\n",
       "      <th>comment_count</th>\n",
       "      <th>comments_url</th>\n",
       "      <th>created_at</th>\n",
       "      <th>description</th>\n",
       "      <th>downvotes</th>\n",
       "      <th>score</th>\n",
       "      <th>short_id_url</th>\n",
       "      <th>tags</th>\n",
       "      <th>title</th>\n",
       "      <th>upvotes</th>\n",
       "      <th>url</th>\n",
       "      <th>about</th>\n",
       "      <th>avatar_url</th>\n",
       "      <th>user_created_at</th>\n",
       "      <th>github_username</th>\n",
       "      <th>is_admin</th>\n",
       "      <th>is_moderator</th>\n",
       "      <th>karma</th>\n",
       "      <th>twitter_username</th>\n",
       "      <th>username</th>\n",
       "    </tr>\n",
       "    <tr>\n",
       "      <th>short_id</th>\n",
       "      <th></th>\n",
       "      <th></th>\n",
       "      <th></th>\n",
       "      <th></th>\n",
       "      <th></th>\n",
       "      <th></th>\n",
       "      <th></th>\n",
       "      <th></th>\n",
       "      <th></th>\n",
       "      <th></th>\n",
       "      <th></th>\n",
       "      <th></th>\n",
       "      <th></th>\n",
       "      <th></th>\n",
       "      <th></th>\n",
       "      <th></th>\n",
       "      <th></th>\n",
       "      <th></th>\n",
       "      <th></th>\n",
       "      <th></th>\n",
       "    </tr>\n",
       "  </thead>\n",
       "  <tbody>\n",
       "    <tr>\n",
       "      <th>fskvfo</th>\n",
       "      <td>3</td>\n",
       "      <td>https://lobste.rs/s/fskvfo/security_footgun_etcd</td>\n",
       "      <td>2018-03-18 13:27:27</td>\n",
       "      <td></td>\n",
       "      <td>0</td>\n",
       "      <td>13</td>\n",
       "      <td>https://lobste.rs/s/fskvfo</td>\n",
       "      <td>[devops, security]</td>\n",
       "      <td>The security footgun in etcd</td>\n",
       "      <td>13</td>\n",
       "      <td>https://elweb.co/the-security-footgun-in-etcd/</td>\n",
       "      <td>Soon we will all have special names... names d...</td>\n",
       "      <td>https://lobste.rs/avatars/calvin-100.png</td>\n",
       "      <td>2014-07-01T06:47:13.000-05:00</td>\n",
       "      <td>NattyNarwhal</td>\n",
       "      <td>False</td>\n",
       "      <td>False</td>\n",
       "      <td>24328.0</td>\n",
       "      <td>NaN</td>\n",
       "      <td>calvin</td>\n",
       "    </tr>\n",
       "    <tr>\n",
       "      <th>d42dv7</th>\n",
       "      <td>0</td>\n",
       "      <td>https://lobste.rs/s/d42dv7/types_indeterminates</td>\n",
       "      <td>2018-03-18 16:13:06</td>\n",
       "      <td></td>\n",
       "      <td>0</td>\n",
       "      <td>3</td>\n",
       "      <td>https://lobste.rs/s/d42dv7</td>\n",
       "      <td>[ml, plt]</td>\n",
       "      <td>Types and Indeterminates</td>\n",
       "      <td>3</td>\n",
       "      <td>http://boxbase.org/entries/2018/mar/19/types-a...</td>\n",
       "      <td></td>\n",
       "      <td>https://lobste.rs/avatars/HenriTuhola-100.png</td>\n",
       "      <td>2017-10-11T17:37:54.000-05:00</td>\n",
       "      <td>NaN</td>\n",
       "      <td>False</td>\n",
       "      <td>False</td>\n",
       "      <td>41.0</td>\n",
       "      <td>NaN</td>\n",
       "      <td>HenriTuhola</td>\n",
       "    </tr>\n",
       "    <tr>\n",
       "      <th>xss2yb</th>\n",
       "      <td>15</td>\n",
       "      <td>https://lobste.rs/s/xss2yb/life_land_unqualifi...</td>\n",
       "      <td>2018-03-17 14:05:38</td>\n",
       "      <td></td>\n",
       "      <td>0</td>\n",
       "      <td>13</td>\n",
       "      <td>https://lobste.rs/s/xss2yb</td>\n",
       "      <td>[elm, practices]</td>\n",
       "      <td>Life in the land of unqualified imports</td>\n",
       "      <td>13</td>\n",
       "      <td>https://maxhallinan.com/posts/2018/03/17/life-...</td>\n",
       "      <td>[https://www.maxhallinan.com/](https://www.max...</td>\n",
       "      <td>https://lobste.rs/avatars/maxhallinan-100.png</td>\n",
       "      <td>2017-07-05T09:16:05.000-05:00</td>\n",
       "      <td>maxhallinan</td>\n",
       "      <td>False</td>\n",
       "      <td>False</td>\n",
       "      <td>164.0</td>\n",
       "      <td>NaN</td>\n",
       "      <td>maxhallinan</td>\n",
       "    </tr>\n",
       "    <tr>\n",
       "      <th>zgu5en</th>\n",
       "      <td>0</td>\n",
       "      <td>https://lobste.rs/s/zgu5en/gaijin_engineer_tokyo</td>\n",
       "      <td>2018-03-18 16:23:28</td>\n",
       "      <td></td>\n",
       "      <td>0</td>\n",
       "      <td>4</td>\n",
       "      <td>https://lobste.rs/s/zgu5en</td>\n",
       "      <td>[culture]</td>\n",
       "      <td>Gaijin Engineer in Tokyo</td>\n",
       "      <td>4</td>\n",
       "      <td>https://medium.com/@xevix/gaijin-engineer-in-t...</td>\n",
       "      <td>*Literally* full of ants.\\r\\n\\r\\nFriendly engi...</td>\n",
       "      <td>https://lobste.rs/avatars/friendlysock-100.png</td>\n",
       "      <td>2014-02-20T00:43:41.000-06:00</td>\n",
       "      <td>NaN</td>\n",
       "      <td>False</td>\n",
       "      <td>False</td>\n",
       "      <td>14747.0</td>\n",
       "      <td>NaN</td>\n",
       "      <td>friendlysock</td>\n",
       "    </tr>\n",
       "    <tr>\n",
       "      <th>omhcqr</th>\n",
       "      <td>0</td>\n",
       "      <td>https://lobste.rs/s/omhcqr/aigo_chinese_encryp...</td>\n",
       "      <td>2018-03-18 15:03:25</td>\n",
       "      <td>&lt;p&gt;&lt;a href=\"https://syscall.eu/blog/2018/03/12...</td>\n",
       "      <td>0</td>\n",
       "      <td>2</td>\n",
       "      <td>https://lobste.rs/s/omhcqr</td>\n",
       "      <td>[hardware, security]</td>\n",
       "      <td>Aigo Chinese encrypted HDD − Part 1: taking it...</td>\n",
       "      <td>2</td>\n",
       "      <td>https://syscall.eu/blog/2018/03/12/aigo_part1/</td>\n",
       "      <td></td>\n",
       "      <td>https://lobste.rs/avatars/sevan-100.png</td>\n",
       "      <td>2013-06-02T17:42:02.000-05:00</td>\n",
       "      <td>NaN</td>\n",
       "      <td>False</td>\n",
       "      <td>False</td>\n",
       "      <td>3402.0</td>\n",
       "      <td>NaN</td>\n",
       "      <td>sevan</td>\n",
       "    </tr>\n",
       "  </tbody>\n",
       "</table>\n",
       "</div>"
      ],
      "text/plain": [
       "          comment_count                                       comments_url  \\\n",
       "short_id                                                                     \n",
       "fskvfo                3   https://lobste.rs/s/fskvfo/security_footgun_etcd   \n",
       "d42dv7                0    https://lobste.rs/s/d42dv7/types_indeterminates   \n",
       "xss2yb               15  https://lobste.rs/s/xss2yb/life_land_unqualifi...   \n",
       "zgu5en                0   https://lobste.rs/s/zgu5en/gaijin_engineer_tokyo   \n",
       "omhcqr                0  https://lobste.rs/s/omhcqr/aigo_chinese_encryp...   \n",
       "\n",
       "                  created_at  \\\n",
       "short_id                       \n",
       "fskvfo   2018-03-18 13:27:27   \n",
       "d42dv7   2018-03-18 16:13:06   \n",
       "xss2yb   2018-03-17 14:05:38   \n",
       "zgu5en   2018-03-18 16:23:28   \n",
       "omhcqr   2018-03-18 15:03:25   \n",
       "\n",
       "                                                description  downvotes  score  \\\n",
       "short_id                                                                        \n",
       "fskvfo                                                               0     13   \n",
       "d42dv7                                                               0      3   \n",
       "xss2yb                                                               0     13   \n",
       "zgu5en                                                               0      4   \n",
       "omhcqr    <p><a href=\"https://syscall.eu/blog/2018/03/12...          0      2   \n",
       "\n",
       "                        short_id_url                  tags  \\\n",
       "short_id                                                     \n",
       "fskvfo    https://lobste.rs/s/fskvfo    [devops, security]   \n",
       "d42dv7    https://lobste.rs/s/d42dv7             [ml, plt]   \n",
       "xss2yb    https://lobste.rs/s/xss2yb      [elm, practices]   \n",
       "zgu5en    https://lobste.rs/s/zgu5en             [culture]   \n",
       "omhcqr    https://lobste.rs/s/omhcqr  [hardware, security]   \n",
       "\n",
       "                                                      title  upvotes  \\\n",
       "short_id                                                               \n",
       "fskvfo                         The security footgun in etcd       13   \n",
       "d42dv7                             Types and Indeterminates        3   \n",
       "xss2yb              Life in the land of unqualified imports       13   \n",
       "zgu5en                             Gaijin Engineer in Tokyo        4   \n",
       "omhcqr    Aigo Chinese encrypted HDD − Part 1: taking it...        2   \n",
       "\n",
       "                                                        url  \\\n",
       "short_id                                                      \n",
       "fskvfo       https://elweb.co/the-security-footgun-in-etcd/   \n",
       "d42dv7    http://boxbase.org/entries/2018/mar/19/types-a...   \n",
       "xss2yb    https://maxhallinan.com/posts/2018/03/17/life-...   \n",
       "zgu5en    https://medium.com/@xevix/gaijin-engineer-in-t...   \n",
       "omhcqr       https://syscall.eu/blog/2018/03/12/aigo_part1/   \n",
       "\n",
       "                                                      about  \\\n",
       "short_id                                                      \n",
       "fskvfo    Soon we will all have special names... names d...   \n",
       "d42dv7                                                        \n",
       "xss2yb    [https://www.maxhallinan.com/](https://www.max...   \n",
       "zgu5en    *Literally* full of ants.\\r\\n\\r\\nFriendly engi...   \n",
       "omhcqr                                                        \n",
       "\n",
       "                                              avatar_url  \\\n",
       "short_id                                                   \n",
       "fskvfo          https://lobste.rs/avatars/calvin-100.png   \n",
       "d42dv7     https://lobste.rs/avatars/HenriTuhola-100.png   \n",
       "xss2yb     https://lobste.rs/avatars/maxhallinan-100.png   \n",
       "zgu5en    https://lobste.rs/avatars/friendlysock-100.png   \n",
       "omhcqr           https://lobste.rs/avatars/sevan-100.png   \n",
       "\n",
       "                        user_created_at github_username  is_admin  \\\n",
       "short_id                                                            \n",
       "fskvfo    2014-07-01T06:47:13.000-05:00    NattyNarwhal     False   \n",
       "d42dv7    2017-10-11T17:37:54.000-05:00             NaN     False   \n",
       "xss2yb    2017-07-05T09:16:05.000-05:00     maxhallinan     False   \n",
       "zgu5en    2014-02-20T00:43:41.000-06:00             NaN     False   \n",
       "omhcqr    2013-06-02T17:42:02.000-05:00             NaN     False   \n",
       "\n",
       "          is_moderator    karma twitter_username      username  \n",
       "short_id                                                        \n",
       "fskvfo           False  24328.0              NaN        calvin  \n",
       "d42dv7           False     41.0              NaN   HenriTuhola  \n",
       "xss2yb           False    164.0              NaN   maxhallinan  \n",
       "zgu5en           False  14747.0              NaN  friendlysock  \n",
       "omhcqr           False   3402.0              NaN         sevan  "
      ]
     },
     "execution_count": 14,
     "metadata": {},
     "output_type": "execute_result"
    }
   ],
   "source": [
    "stories.head()"
   ]
  },
  {
   "cell_type": "markdown",
   "metadata": {},
   "source": [
    "### Let's check for nulls"
   ]
  },
  {
   "cell_type": "code",
   "execution_count": 15,
   "metadata": {
    "collapsed": true
   },
   "outputs": [
    {
     "data": {
      "text/plain": [
       "(25, 20)"
      ]
     },
     "execution_count": 15,
     "metadata": {},
     "output_type": "execute_result"
    }
   ],
   "source": [
    "stories.shape"
   ]
  },
  {
   "cell_type": "code",
   "execution_count": 22,
   "metadata": {
    "collapsed": true
   },
   "outputs": [
    {
     "data": {
      "text/plain": [
       "(25, 17)"
      ]
     },
     "execution_count": 22,
     "metadata": {},
     "output_type": "execute_result"
    }
   ],
   "source": [
    "stories.dropna(axis=1).shape"
   ]
  },
  {
   "cell_type": "code",
   "execution_count": 38,
   "metadata": {
    "collapsed": true
   },
   "outputs": [
    {
     "data": {
      "text/plain": [
       "(25, 19)"
      ]
     },
     "execution_count": 38,
     "metadata": {},
     "output_type": "execute_result"
    }
   ],
   "source": [
    "stories.dropna(thresh=9, axis=1).shape"
   ]
  },
  {
   "cell_type": "markdown",
   "metadata": {},
   "source": [
    "### Exercise: which columns would be dropped?"
   ]
  },
  {
   "cell_type": "code",
   "execution_count": 40,
   "metadata": {
    "collapsed": true
   },
   "outputs": [
    {
     "data": {
      "text/plain": [
       "{'twitter_username'}"
      ]
     },
     "execution_count": 40,
     "metadata": {},
     "output_type": "execute_result"
    }
   ],
   "source": [
    "# %load ../solutions/lobsters_dropped.py\n",
    "set(stories.columns) - set(stories.dropna(thresh=9, axis=1).columns)\n",
    "#stories['github_username'].isna().sum()"
   ]
  },
  {
   "cell_type": "markdown",
   "metadata": {},
   "source": [
    "## Let's make the tags easier to use by having them as features in the columns."
   ]
  },
  {
   "cell_type": "code",
   "execution_count": 62,
   "metadata": {
    "collapsed": true
   },
   "outputs": [
    {
     "data": {
      "text/html": [
       "<div>\n",
       "<style scoped>\n",
       "    .dataframe tbody tr th:only-of-type {\n",
       "        vertical-align: middle;\n",
       "    }\n",
       "\n",
       "    .dataframe tbody tr th {\n",
       "        vertical-align: top;\n",
       "    }\n",
       "\n",
       "    .dataframe thead th {\n",
       "        text-align: right;\n",
       "    }\n",
       "</style>\n",
       "<table border=\"1\" class=\"dataframe\">\n",
       "  <thead>\n",
       "    <tr style=\"text-align: right;\">\n",
       "      <th></th>\n",
       "      <th>0</th>\n",
       "      <th>1</th>\n",
       "      <th>2</th>\n",
       "    </tr>\n",
       "    <tr>\n",
       "      <th>short_id</th>\n",
       "      <th></th>\n",
       "      <th></th>\n",
       "      <th></th>\n",
       "    </tr>\n",
       "  </thead>\n",
       "  <tbody>\n",
       "    <tr>\n",
       "      <th>fskvfo</th>\n",
       "      <td>devops</td>\n",
       "      <td>security</td>\n",
       "      <td>NaN</td>\n",
       "    </tr>\n",
       "    <tr>\n",
       "      <th>d42dv7</th>\n",
       "      <td>ml</td>\n",
       "      <td>plt</td>\n",
       "      <td>NaN</td>\n",
       "    </tr>\n",
       "    <tr>\n",
       "      <th>xss2yb</th>\n",
       "      <td>elm</td>\n",
       "      <td>practices</td>\n",
       "      <td>NaN</td>\n",
       "    </tr>\n",
       "    <tr>\n",
       "      <th>zgu5en</th>\n",
       "      <td>culture</td>\n",
       "      <td>NaN</td>\n",
       "      <td>NaN</td>\n",
       "    </tr>\n",
       "    <tr>\n",
       "      <th>omhcqr</th>\n",
       "      <td>hardware</td>\n",
       "      <td>security</td>\n",
       "      <td>NaN</td>\n",
       "    </tr>\n",
       "  </tbody>\n",
       "</table>\n",
       "</div>"
      ],
      "text/plain": [
       "                 0          1    2\n",
       "short_id                          \n",
       "fskvfo      devops   security  NaN\n",
       "d42dv7          ml        plt  NaN\n",
       "xss2yb         elm  practices  NaN\n",
       "zgu5en     culture        NaN  NaN\n",
       "omhcqr    hardware   security  NaN"
      ]
     },
     "execution_count": 62,
     "metadata": {},
     "output_type": "execute_result"
    }
   ],
   "source": [
    "tag_df = stories.tags.apply(pd.Series)\n",
    "tag_df.head()"
   ]
  },
  {
   "cell_type": "code",
   "execution_count": 63,
   "metadata": {},
   "outputs": [
    {
     "data": {
      "text/plain": [
       "array([['devops', 'security', nan],\n",
       "       ['ml', 'plt', nan],\n",
       "       ['elm', 'practices', nan],\n",
       "       ['culture', nan, nan],\n",
       "       ['hardware', 'security', nan],\n",
       "       ['illumos', 'unix', nan],\n",
       "       ['practices', nan, nan],\n",
       "       ['erlang', 'video', nan],\n",
       "       ['javascript', nan, nan],\n",
       "       ['pdf', 'plt', 'scala'],\n",
       "       ['hardware', nan, nan],\n",
       "       ['python', nan, nan],\n",
       "       ['databases', nan, nan],\n",
       "       ['unix', nan, nan],\n",
       "       ['plt', 'practices', nan],\n",
       "       ['networking', nan, nan],\n",
       "       ['hardware', 'java', 'pdf'],\n",
       "       ['math', 'pdf', 'practices'],\n",
       "       ['culture', nan, nan],\n",
       "       ['c++', 'compsci', 'pdf'],\n",
       "       ['person', nan, nan],\n",
       "       ['practices', nan, nan],\n",
       "       ['formalmethods', nan, nan],\n",
       "       ['c++', 'games', 'graphics'],\n",
       "       ['vcs', nan, nan]], dtype=object)"
      ]
     },
     "execution_count": 63,
     "metadata": {},
     "output_type": "execute_result"
    }
   ],
   "source": [
    "tag_df.values"
   ]
  },
  {
   "cell_type": "code",
   "execution_count": 64,
   "metadata": {
    "collapsed": true
   },
   "outputs": [
    {
     "data": {
      "text/plain": [
       "array(['devops', 'security', nan, 'ml', 'plt', 'elm', 'practices',\n",
       "       'culture', 'hardware', 'illumos', 'unix', 'erlang', 'video',\n",
       "       'javascript', 'pdf', 'scala', 'python', 'databases', 'networking',\n",
       "       'java', 'math', 'c++', 'compsci', 'person', 'formalmethods',\n",
       "       'games', 'graphics', 'vcs'], dtype=object)"
      ]
     },
     "execution_count": 64,
     "metadata": {},
     "output_type": "execute_result"
    }
   ],
   "source": [
    "# what are our unique tags?\n",
    "\n",
    "pd.unique(tag_df.values.ravel())"
   ]
  },
  {
   "cell_type": "code",
   "execution_count": null,
   "metadata": {
    "collapsed": true
   },
   "outputs": [],
   "source": [
    "len(pd.unique(tag_df.values.ravel()))"
   ]
  },
  {
   "cell_type": "code",
   "execution_count": 51,
   "metadata": {
    "collapsed": true
   },
   "outputs": [
    {
     "data": {
      "text/plain": [
       "[(nan, 33), ('practices', 5), ('pdf', 4), ('plt', 3), ('hardware', 3)]"
      ]
     },
     "execution_count": 51,
     "metadata": {},
     "output_type": "execute_result"
    }
   ],
   "source": [
    "# most common tags\n",
    "\n",
    "Counter(tag_df.values.ravel()).most_common(5)"
   ]
  },
  {
   "cell_type": "markdown",
   "metadata": {},
   "source": [
    "### Let's create a dummy df with our tags"
   ]
  },
  {
   "cell_type": "code",
   "execution_count": 65,
   "metadata": {},
   "outputs": [
    {
     "data": {
      "text/html": [
       "<div>\n",
       "<style scoped>\n",
       "    .dataframe tbody tr th:only-of-type {\n",
       "        vertical-align: middle;\n",
       "    }\n",
       "\n",
       "    .dataframe tbody tr th {\n",
       "        vertical-align: top;\n",
       "    }\n",
       "\n",
       "    .dataframe thead th {\n",
       "        text-align: right;\n",
       "    }\n",
       "</style>\n",
       "<table border=\"1\" class=\"dataframe\">\n",
       "  <thead>\n",
       "    <tr style=\"text-align: right;\">\n",
       "      <th></th>\n",
       "      <th>0</th>\n",
       "      <th>1</th>\n",
       "      <th>2</th>\n",
       "    </tr>\n",
       "    <tr>\n",
       "      <th>short_id</th>\n",
       "      <th></th>\n",
       "      <th></th>\n",
       "      <th></th>\n",
       "    </tr>\n",
       "  </thead>\n",
       "  <tbody>\n",
       "    <tr>\n",
       "      <th>fskvfo</th>\n",
       "      <td>devops</td>\n",
       "      <td>security</td>\n",
       "      <td>NaN</td>\n",
       "    </tr>\n",
       "    <tr>\n",
       "      <th>d42dv7</th>\n",
       "      <td>ml</td>\n",
       "      <td>plt</td>\n",
       "      <td>NaN</td>\n",
       "    </tr>\n",
       "    <tr>\n",
       "      <th>xss2yb</th>\n",
       "      <td>elm</td>\n",
       "      <td>practices</td>\n",
       "      <td>NaN</td>\n",
       "    </tr>\n",
       "    <tr>\n",
       "      <th>zgu5en</th>\n",
       "      <td>culture</td>\n",
       "      <td>NaN</td>\n",
       "      <td>NaN</td>\n",
       "    </tr>\n",
       "    <tr>\n",
       "      <th>omhcqr</th>\n",
       "      <td>hardware</td>\n",
       "      <td>security</td>\n",
       "      <td>NaN</td>\n",
       "    </tr>\n",
       "  </tbody>\n",
       "</table>\n",
       "</div>"
      ],
      "text/plain": [
       "                 0          1    2\n",
       "short_id                          \n",
       "fskvfo      devops   security  NaN\n",
       "d42dv7          ml        plt  NaN\n",
       "xss2yb         elm  practices  NaN\n",
       "zgu5en     culture        NaN  NaN\n",
       "omhcqr    hardware   security  NaN"
      ]
     },
     "execution_count": 65,
     "metadata": {},
     "output_type": "execute_result"
    }
   ],
   "source": [
    "tag_df.head()"
   ]
  },
  {
   "cell_type": "code",
   "execution_count": 73,
   "metadata": {},
   "outputs": [
    {
     "data": {
      "text/plain": [
       "pandas.core.indexes.multi.MultiIndex"
      ]
     },
     "execution_count": 73,
     "metadata": {},
     "output_type": "execute_result"
    }
   ],
   "source": [
    "type(tag_df.stack().index)"
   ]
  },
  {
   "cell_type": "code",
   "execution_count": 71,
   "metadata": {},
   "outputs": [
    {
     "data": {
      "text/plain": [
       "short_id   \n",
       "fskvfo    0      devops\n",
       "          1    security\n",
       "d42dv7    0          ml\n",
       "          1         plt\n",
       "xss2yb    0         elm\n",
       "dtype: object"
      ]
     },
     "execution_count": 71,
     "metadata": {},
     "output_type": "execute_result"
    }
   ],
   "source": [
    "tag_df.stack().head()"
   ]
  },
  {
   "cell_type": "code",
   "execution_count": 82,
   "metadata": {
    "collapsed": true
   },
   "outputs": [],
   "source": [
    "tag_df= pd.get_dummies(\n",
    "    tag_df.stack()).sum(level=0)"
   ]
  },
  {
   "cell_type": "code",
   "execution_count": 86,
   "metadata": {
    "collapsed": true
   },
   "outputs": [
    {
     "data": {
      "text/html": [
       "<div>\n",
       "<style scoped>\n",
       "    .dataframe tbody tr th:only-of-type {\n",
       "        vertical-align: middle;\n",
       "    }\n",
       "\n",
       "    .dataframe tbody tr th {\n",
       "        vertical-align: top;\n",
       "    }\n",
       "\n",
       "    .dataframe thead th {\n",
       "        text-align: right;\n",
       "    }\n",
       "</style>\n",
       "<table border=\"1\" class=\"dataframe\">\n",
       "  <thead>\n",
       "    <tr style=\"text-align: right;\">\n",
       "      <th></th>\n",
       "      <th>c++</th>\n",
       "      <th>compsci</th>\n",
       "      <th>culture</th>\n",
       "      <th>databases</th>\n",
       "      <th>devops</th>\n",
       "      <th>elm</th>\n",
       "      <th>erlang</th>\n",
       "      <th>formalmethods</th>\n",
       "      <th>games</th>\n",
       "      <th>graphics</th>\n",
       "      <th>...</th>\n",
       "      <th>pdf</th>\n",
       "      <th>person</th>\n",
       "      <th>plt</th>\n",
       "      <th>practices</th>\n",
       "      <th>python</th>\n",
       "      <th>scala</th>\n",
       "      <th>security</th>\n",
       "      <th>unix</th>\n",
       "      <th>vcs</th>\n",
       "      <th>video</th>\n",
       "    </tr>\n",
       "    <tr>\n",
       "      <th>short_id</th>\n",
       "      <th></th>\n",
       "      <th></th>\n",
       "      <th></th>\n",
       "      <th></th>\n",
       "      <th></th>\n",
       "      <th></th>\n",
       "      <th></th>\n",
       "      <th></th>\n",
       "      <th></th>\n",
       "      <th></th>\n",
       "      <th></th>\n",
       "      <th></th>\n",
       "      <th></th>\n",
       "      <th></th>\n",
       "      <th></th>\n",
       "      <th></th>\n",
       "      <th></th>\n",
       "      <th></th>\n",
       "      <th></th>\n",
       "      <th></th>\n",
       "      <th></th>\n",
       "    </tr>\n",
       "  </thead>\n",
       "  <tbody>\n",
       "    <tr>\n",
       "      <th>fskvfo</th>\n",
       "      <td>0</td>\n",
       "      <td>0</td>\n",
       "      <td>0</td>\n",
       "      <td>0</td>\n",
       "      <td>1</td>\n",
       "      <td>0</td>\n",
       "      <td>0</td>\n",
       "      <td>0</td>\n",
       "      <td>0</td>\n",
       "      <td>0</td>\n",
       "      <td>...</td>\n",
       "      <td>0</td>\n",
       "      <td>0</td>\n",
       "      <td>0</td>\n",
       "      <td>0</td>\n",
       "      <td>0</td>\n",
       "      <td>0</td>\n",
       "      <td>1</td>\n",
       "      <td>0</td>\n",
       "      <td>0</td>\n",
       "      <td>0</td>\n",
       "    </tr>\n",
       "    <tr>\n",
       "      <th>d42dv7</th>\n",
       "      <td>0</td>\n",
       "      <td>0</td>\n",
       "      <td>0</td>\n",
       "      <td>0</td>\n",
       "      <td>0</td>\n",
       "      <td>0</td>\n",
       "      <td>0</td>\n",
       "      <td>0</td>\n",
       "      <td>0</td>\n",
       "      <td>0</td>\n",
       "      <td>...</td>\n",
       "      <td>0</td>\n",
       "      <td>0</td>\n",
       "      <td>1</td>\n",
       "      <td>0</td>\n",
       "      <td>0</td>\n",
       "      <td>0</td>\n",
       "      <td>0</td>\n",
       "      <td>0</td>\n",
       "      <td>0</td>\n",
       "      <td>0</td>\n",
       "    </tr>\n",
       "    <tr>\n",
       "      <th>xss2yb</th>\n",
       "      <td>0</td>\n",
       "      <td>0</td>\n",
       "      <td>0</td>\n",
       "      <td>0</td>\n",
       "      <td>0</td>\n",
       "      <td>1</td>\n",
       "      <td>0</td>\n",
       "      <td>0</td>\n",
       "      <td>0</td>\n",
       "      <td>0</td>\n",
       "      <td>...</td>\n",
       "      <td>0</td>\n",
       "      <td>0</td>\n",
       "      <td>0</td>\n",
       "      <td>1</td>\n",
       "      <td>0</td>\n",
       "      <td>0</td>\n",
       "      <td>0</td>\n",
       "      <td>0</td>\n",
       "      <td>0</td>\n",
       "      <td>0</td>\n",
       "    </tr>\n",
       "    <tr>\n",
       "      <th>zgu5en</th>\n",
       "      <td>0</td>\n",
       "      <td>0</td>\n",
       "      <td>1</td>\n",
       "      <td>0</td>\n",
       "      <td>0</td>\n",
       "      <td>0</td>\n",
       "      <td>0</td>\n",
       "      <td>0</td>\n",
       "      <td>0</td>\n",
       "      <td>0</td>\n",
       "      <td>...</td>\n",
       "      <td>0</td>\n",
       "      <td>0</td>\n",
       "      <td>0</td>\n",
       "      <td>0</td>\n",
       "      <td>0</td>\n",
       "      <td>0</td>\n",
       "      <td>0</td>\n",
       "      <td>0</td>\n",
       "      <td>0</td>\n",
       "      <td>0</td>\n",
       "    </tr>\n",
       "    <tr>\n",
       "      <th>omhcqr</th>\n",
       "      <td>0</td>\n",
       "      <td>0</td>\n",
       "      <td>0</td>\n",
       "      <td>0</td>\n",
       "      <td>0</td>\n",
       "      <td>0</td>\n",
       "      <td>0</td>\n",
       "      <td>0</td>\n",
       "      <td>0</td>\n",
       "      <td>0</td>\n",
       "      <td>...</td>\n",
       "      <td>0</td>\n",
       "      <td>0</td>\n",
       "      <td>0</td>\n",
       "      <td>0</td>\n",
       "      <td>0</td>\n",
       "      <td>0</td>\n",
       "      <td>1</td>\n",
       "      <td>0</td>\n",
       "      <td>0</td>\n",
       "      <td>0</td>\n",
       "    </tr>\n",
       "  </tbody>\n",
       "</table>\n",
       "<p>5 rows × 27 columns</p>\n",
       "</div>"
      ],
      "text/plain": [
       "          c++  compsci  culture  databases  devops  elm  erlang  \\\n",
       "short_id                                                          \n",
       "fskvfo      0        0        0          0       1    0       0   \n",
       "d42dv7      0        0        0          0       0    0       0   \n",
       "xss2yb      0        0        0          0       0    1       0   \n",
       "zgu5en      0        0        1          0       0    0       0   \n",
       "omhcqr      0        0        0          0       0    0       0   \n",
       "\n",
       "          formalmethods  games  graphics  ...    pdf  person  plt  practices  \\\n",
       "short_id                                  ...                                  \n",
       "fskvfo                0      0         0  ...      0       0    0          0   \n",
       "d42dv7                0      0         0  ...      0       0    1          0   \n",
       "xss2yb                0      0         0  ...      0       0    0          1   \n",
       "zgu5en                0      0         0  ...      0       0    0          0   \n",
       "omhcqr                0      0         0  ...      0       0    0          0   \n",
       "\n",
       "          python  scala  security  unix  vcs  video  \n",
       "short_id                                             \n",
       "fskvfo         0      0         1     0    0      0  \n",
       "d42dv7         0      0         0     0    0      0  \n",
       "xss2yb         0      0         0     0    0      0  \n",
       "zgu5en         0      0         0     0    0      0  \n",
       "omhcqr         0      0         1     0    0      0  \n",
       "\n",
       "[5 rows x 27 columns]"
      ]
     },
     "execution_count": 86,
     "metadata": {},
     "output_type": "execute_result"
    }
   ],
   "source": [
    "tag_df.head()"
   ]
  },
  {
   "cell_type": "markdown",
   "metadata": {},
   "source": [
    "### Now we can add it back to our stories DataFrame"
   ]
  },
  {
   "cell_type": "code",
   "execution_count": 85,
   "metadata": {
    "collapsed": true
   },
   "outputs": [],
   "source": [
    "#stories.drop('tags', axis=1)\n",
    "stories = pd.concat([stories, tag_df], axis=1)"
   ]
  },
  {
   "cell_type": "code",
   "execution_count": 87,
   "metadata": {
    "collapsed": true
   },
   "outputs": [
    {
     "data": {
      "text/html": [
       "<div>\n",
       "<style scoped>\n",
       "    .dataframe tbody tr th:only-of-type {\n",
       "        vertical-align: middle;\n",
       "    }\n",
       "\n",
       "    .dataframe tbody tr th {\n",
       "        vertical-align: top;\n",
       "    }\n",
       "\n",
       "    .dataframe thead th {\n",
       "        text-align: right;\n",
       "    }\n",
       "</style>\n",
       "<table border=\"1\" class=\"dataframe\">\n",
       "  <thead>\n",
       "    <tr style=\"text-align: right;\">\n",
       "      <th></th>\n",
       "      <th>comment_count</th>\n",
       "      <th>comments_url</th>\n",
       "      <th>created_at</th>\n",
       "      <th>description</th>\n",
       "      <th>downvotes</th>\n",
       "      <th>score</th>\n",
       "      <th>short_id_url</th>\n",
       "      <th>title</th>\n",
       "      <th>upvotes</th>\n",
       "      <th>url</th>\n",
       "      <th>...</th>\n",
       "      <th>pdf</th>\n",
       "      <th>person</th>\n",
       "      <th>plt</th>\n",
       "      <th>practices</th>\n",
       "      <th>python</th>\n",
       "      <th>scala</th>\n",
       "      <th>security</th>\n",
       "      <th>unix</th>\n",
       "      <th>vcs</th>\n",
       "      <th>video</th>\n",
       "    </tr>\n",
       "    <tr>\n",
       "      <th>short_id</th>\n",
       "      <th></th>\n",
       "      <th></th>\n",
       "      <th></th>\n",
       "      <th></th>\n",
       "      <th></th>\n",
       "      <th></th>\n",
       "      <th></th>\n",
       "      <th></th>\n",
       "      <th></th>\n",
       "      <th></th>\n",
       "      <th></th>\n",
       "      <th></th>\n",
       "      <th></th>\n",
       "      <th></th>\n",
       "      <th></th>\n",
       "      <th></th>\n",
       "      <th></th>\n",
       "      <th></th>\n",
       "      <th></th>\n",
       "      <th></th>\n",
       "      <th></th>\n",
       "    </tr>\n",
       "  </thead>\n",
       "  <tbody>\n",
       "    <tr>\n",
       "      <th>fskvfo</th>\n",
       "      <td>3</td>\n",
       "      <td>https://lobste.rs/s/fskvfo/security_footgun_etcd</td>\n",
       "      <td>2018-03-18 13:27:27</td>\n",
       "      <td></td>\n",
       "      <td>0</td>\n",
       "      <td>13</td>\n",
       "      <td>https://lobste.rs/s/fskvfo</td>\n",
       "      <td>The security footgun in etcd</td>\n",
       "      <td>13</td>\n",
       "      <td>https://elweb.co/the-security-footgun-in-etcd/</td>\n",
       "      <td>...</td>\n",
       "      <td>0</td>\n",
       "      <td>0</td>\n",
       "      <td>0</td>\n",
       "      <td>0</td>\n",
       "      <td>0</td>\n",
       "      <td>0</td>\n",
       "      <td>1</td>\n",
       "      <td>0</td>\n",
       "      <td>0</td>\n",
       "      <td>0</td>\n",
       "    </tr>\n",
       "    <tr>\n",
       "      <th>d42dv7</th>\n",
       "      <td>0</td>\n",
       "      <td>https://lobste.rs/s/d42dv7/types_indeterminates</td>\n",
       "      <td>2018-03-18 16:13:06</td>\n",
       "      <td></td>\n",
       "      <td>0</td>\n",
       "      <td>3</td>\n",
       "      <td>https://lobste.rs/s/d42dv7</td>\n",
       "      <td>Types and Indeterminates</td>\n",
       "      <td>3</td>\n",
       "      <td>http://boxbase.org/entries/2018/mar/19/types-a...</td>\n",
       "      <td>...</td>\n",
       "      <td>0</td>\n",
       "      <td>0</td>\n",
       "      <td>1</td>\n",
       "      <td>0</td>\n",
       "      <td>0</td>\n",
       "      <td>0</td>\n",
       "      <td>0</td>\n",
       "      <td>0</td>\n",
       "      <td>0</td>\n",
       "      <td>0</td>\n",
       "    </tr>\n",
       "    <tr>\n",
       "      <th>xss2yb</th>\n",
       "      <td>15</td>\n",
       "      <td>https://lobste.rs/s/xss2yb/life_land_unqualifi...</td>\n",
       "      <td>2018-03-17 14:05:38</td>\n",
       "      <td></td>\n",
       "      <td>0</td>\n",
       "      <td>13</td>\n",
       "      <td>https://lobste.rs/s/xss2yb</td>\n",
       "      <td>Life in the land of unqualified imports</td>\n",
       "      <td>13</td>\n",
       "      <td>https://maxhallinan.com/posts/2018/03/17/life-...</td>\n",
       "      <td>...</td>\n",
       "      <td>0</td>\n",
       "      <td>0</td>\n",
       "      <td>0</td>\n",
       "      <td>1</td>\n",
       "      <td>0</td>\n",
       "      <td>0</td>\n",
       "      <td>0</td>\n",
       "      <td>0</td>\n",
       "      <td>0</td>\n",
       "      <td>0</td>\n",
       "    </tr>\n",
       "    <tr>\n",
       "      <th>zgu5en</th>\n",
       "      <td>0</td>\n",
       "      <td>https://lobste.rs/s/zgu5en/gaijin_engineer_tokyo</td>\n",
       "      <td>2018-03-18 16:23:28</td>\n",
       "      <td></td>\n",
       "      <td>0</td>\n",
       "      <td>4</td>\n",
       "      <td>https://lobste.rs/s/zgu5en</td>\n",
       "      <td>Gaijin Engineer in Tokyo</td>\n",
       "      <td>4</td>\n",
       "      <td>https://medium.com/@xevix/gaijin-engineer-in-t...</td>\n",
       "      <td>...</td>\n",
       "      <td>0</td>\n",
       "      <td>0</td>\n",
       "      <td>0</td>\n",
       "      <td>0</td>\n",
       "      <td>0</td>\n",
       "      <td>0</td>\n",
       "      <td>0</td>\n",
       "      <td>0</td>\n",
       "      <td>0</td>\n",
       "      <td>0</td>\n",
       "    </tr>\n",
       "    <tr>\n",
       "      <th>omhcqr</th>\n",
       "      <td>0</td>\n",
       "      <td>https://lobste.rs/s/omhcqr/aigo_chinese_encryp...</td>\n",
       "      <td>2018-03-18 15:03:25</td>\n",
       "      <td>&lt;p&gt;&lt;a href=\"https://syscall.eu/blog/2018/03/12...</td>\n",
       "      <td>0</td>\n",
       "      <td>2</td>\n",
       "      <td>https://lobste.rs/s/omhcqr</td>\n",
       "      <td>Aigo Chinese encrypted HDD − Part 1: taking it...</td>\n",
       "      <td>2</td>\n",
       "      <td>https://syscall.eu/blog/2018/03/12/aigo_part1/</td>\n",
       "      <td>...</td>\n",
       "      <td>0</td>\n",
       "      <td>0</td>\n",
       "      <td>0</td>\n",
       "      <td>0</td>\n",
       "      <td>0</td>\n",
       "      <td>0</td>\n",
       "      <td>1</td>\n",
       "      <td>0</td>\n",
       "      <td>0</td>\n",
       "      <td>0</td>\n",
       "    </tr>\n",
       "  </tbody>\n",
       "</table>\n",
       "<p>5 rows × 49 columns</p>\n",
       "</div>"
      ],
      "text/plain": [
       "          comment_count                                       comments_url  \\\n",
       "short_id                                                                     \n",
       "fskvfo                3   https://lobste.rs/s/fskvfo/security_footgun_etcd   \n",
       "d42dv7                0    https://lobste.rs/s/d42dv7/types_indeterminates   \n",
       "xss2yb               15  https://lobste.rs/s/xss2yb/life_land_unqualifi...   \n",
       "zgu5en                0   https://lobste.rs/s/zgu5en/gaijin_engineer_tokyo   \n",
       "omhcqr                0  https://lobste.rs/s/omhcqr/aigo_chinese_encryp...   \n",
       "\n",
       "                  created_at  \\\n",
       "short_id                       \n",
       "fskvfo   2018-03-18 13:27:27   \n",
       "d42dv7   2018-03-18 16:13:06   \n",
       "xss2yb   2018-03-17 14:05:38   \n",
       "zgu5en   2018-03-18 16:23:28   \n",
       "omhcqr   2018-03-18 15:03:25   \n",
       "\n",
       "                                                description  downvotes  score  \\\n",
       "short_id                                                                        \n",
       "fskvfo                                                               0     13   \n",
       "d42dv7                                                               0      3   \n",
       "xss2yb                                                               0     13   \n",
       "zgu5en                                                               0      4   \n",
       "omhcqr    <p><a href=\"https://syscall.eu/blog/2018/03/12...          0      2   \n",
       "\n",
       "                        short_id_url  \\\n",
       "short_id                               \n",
       "fskvfo    https://lobste.rs/s/fskvfo   \n",
       "d42dv7    https://lobste.rs/s/d42dv7   \n",
       "xss2yb    https://lobste.rs/s/xss2yb   \n",
       "zgu5en    https://lobste.rs/s/zgu5en   \n",
       "omhcqr    https://lobste.rs/s/omhcqr   \n",
       "\n",
       "                                                      title  upvotes  \\\n",
       "short_id                                                               \n",
       "fskvfo                         The security footgun in etcd       13   \n",
       "d42dv7                             Types and Indeterminates        3   \n",
       "xss2yb              Life in the land of unqualified imports       13   \n",
       "zgu5en                             Gaijin Engineer in Tokyo        4   \n",
       "omhcqr    Aigo Chinese encrypted HDD − Part 1: taking it...        2   \n",
       "\n",
       "                                                        url  ...  pdf person  \\\n",
       "short_id                                                     ...               \n",
       "fskvfo       https://elweb.co/the-security-footgun-in-etcd/  ...    0      0   \n",
       "d42dv7    http://boxbase.org/entries/2018/mar/19/types-a...  ...    0      0   \n",
       "xss2yb    https://maxhallinan.com/posts/2018/03/17/life-...  ...    0      0   \n",
       "zgu5en    https://medium.com/@xevix/gaijin-engineer-in-t...  ...    0      0   \n",
       "omhcqr       https://syscall.eu/blog/2018/03/12/aigo_part1/  ...    0      0   \n",
       "\n",
       "         plt practices  python  scala  security unix vcs video  \n",
       "short_id                                                        \n",
       "fskvfo     0         0       0      0         1    0   0     0  \n",
       "d42dv7     1         0       0      0         0    0   0     0  \n",
       "xss2yb     0         1       0      0         0    0   0     0  \n",
       "zgu5en     0         0       0      0         0    0   0     0  \n",
       "omhcqr     0         0       0      0         1    0   0     0  \n",
       "\n",
       "[5 rows x 49 columns]"
      ]
     },
     "execution_count": 87,
     "metadata": {},
     "output_type": "execute_result"
    }
   ],
   "source": [
    "stories.head()"
   ]
  },
  {
   "cell_type": "markdown",
   "metadata": {},
   "source": [
    "### Another potentially useful feature is the post times..."
   ]
  },
  {
   "cell_type": "code",
   "execution_count": 88,
   "metadata": {
    "collapsed": true
   },
   "outputs": [],
   "source": [
    "stories['created_hour'] = stories.created_at.map(lambda x: x.hour)"
   ]
  },
  {
   "cell_type": "code",
   "execution_count": 89,
   "metadata": {
    "collapsed": true
   },
   "outputs": [],
   "source": [
    "stories['created_dow'] = stories.created_at.map(lambda x: x.weekday())"
   ]
  },
  {
   "cell_type": "code",
   "execution_count": 90,
   "metadata": {},
   "outputs": [
    {
     "data": {
      "text/html": [
       "<div>\n",
       "<style scoped>\n",
       "    .dataframe tbody tr th:only-of-type {\n",
       "        vertical-align: middle;\n",
       "    }\n",
       "\n",
       "    .dataframe tbody tr th {\n",
       "        vertical-align: top;\n",
       "    }\n",
       "\n",
       "    .dataframe thead th {\n",
       "        text-align: right;\n",
       "    }\n",
       "</style>\n",
       "<table border=\"1\" class=\"dataframe\">\n",
       "  <thead>\n",
       "    <tr style=\"text-align: right;\">\n",
       "      <th></th>\n",
       "      <th>created_hour</th>\n",
       "      <th>created_dow</th>\n",
       "    </tr>\n",
       "    <tr>\n",
       "      <th>short_id</th>\n",
       "      <th></th>\n",
       "      <th></th>\n",
       "    </tr>\n",
       "  </thead>\n",
       "  <tbody>\n",
       "    <tr>\n",
       "      <th>fskvfo</th>\n",
       "      <td>13</td>\n",
       "      <td>6</td>\n",
       "    </tr>\n",
       "    <tr>\n",
       "      <th>d42dv7</th>\n",
       "      <td>16</td>\n",
       "      <td>6</td>\n",
       "    </tr>\n",
       "    <tr>\n",
       "      <th>xss2yb</th>\n",
       "      <td>14</td>\n",
       "      <td>5</td>\n",
       "    </tr>\n",
       "    <tr>\n",
       "      <th>zgu5en</th>\n",
       "      <td>16</td>\n",
       "      <td>6</td>\n",
       "    </tr>\n",
       "    <tr>\n",
       "      <th>omhcqr</th>\n",
       "      <td>15</td>\n",
       "      <td>6</td>\n",
       "    </tr>\n",
       "  </tbody>\n",
       "</table>\n",
       "</div>"
      ],
      "text/plain": [
       "          created_hour  created_dow\n",
       "short_id                           \n",
       "fskvfo              13            6\n",
       "d42dv7              16            6\n",
       "xss2yb              14            5\n",
       "zgu5en              16            6\n",
       "omhcqr              15            6"
      ]
     },
     "execution_count": 90,
     "metadata": {},
     "output_type": "execute_result"
    }
   ],
   "source": [
    "stories[['created_hour','created_dow']].head()"
   ]
  },
  {
   "cell_type": "markdown",
   "metadata": {},
   "source": [
    "### Let's analyze some of the correlations in our features so far..."
   ]
  },
  {
   "cell_type": "code",
   "execution_count": 91,
   "metadata": {
    "collapsed": true
   },
   "outputs": [
    {
     "data": {
      "text/html": [
       "<div>\n",
       "<style scoped>\n",
       "    .dataframe tbody tr th:only-of-type {\n",
       "        vertical-align: middle;\n",
       "    }\n",
       "\n",
       "    .dataframe tbody tr th {\n",
       "        vertical-align: top;\n",
       "    }\n",
       "\n",
       "    .dataframe thead th {\n",
       "        text-align: right;\n",
       "    }\n",
       "</style>\n",
       "<table border=\"1\" class=\"dataframe\">\n",
       "  <thead>\n",
       "    <tr style=\"text-align: right;\">\n",
       "      <th></th>\n",
       "      <th>created_hour</th>\n",
       "      <th>score</th>\n",
       "    </tr>\n",
       "  </thead>\n",
       "  <tbody>\n",
       "    <tr>\n",
       "      <th>created_hour</th>\n",
       "      <td>1.000000</td>\n",
       "      <td>0.130952</td>\n",
       "    </tr>\n",
       "    <tr>\n",
       "      <th>score</th>\n",
       "      <td>0.130952</td>\n",
       "      <td>1.000000</td>\n",
       "    </tr>\n",
       "  </tbody>\n",
       "</table>\n",
       "</div>"
      ],
      "text/plain": [
       "              created_hour     score\n",
       "created_hour      1.000000  0.130952\n",
       "score             0.130952  1.000000"
      ]
     },
     "execution_count": 91,
     "metadata": {},
     "output_type": "execute_result"
    }
   ],
   "source": [
    "stories[['created_hour', 'score']].corr()"
   ]
  },
  {
   "cell_type": "code",
   "execution_count": 92,
   "metadata": {
    "collapsed": true
   },
   "outputs": [
    {
     "data": {
      "text/html": [
       "<div>\n",
       "<style scoped>\n",
       "    .dataframe tbody tr th:only-of-type {\n",
       "        vertical-align: middle;\n",
       "    }\n",
       "\n",
       "    .dataframe tbody tr th {\n",
       "        vertical-align: top;\n",
       "    }\n",
       "\n",
       "    .dataframe thead th {\n",
       "        text-align: right;\n",
       "    }\n",
       "</style>\n",
       "<table border=\"1\" class=\"dataframe\">\n",
       "  <thead>\n",
       "    <tr style=\"text-align: right;\">\n",
       "      <th></th>\n",
       "      <th>created_dow</th>\n",
       "      <th>score</th>\n",
       "    </tr>\n",
       "  </thead>\n",
       "  <tbody>\n",
       "    <tr>\n",
       "      <th>created_dow</th>\n",
       "      <td>1.000000</td>\n",
       "      <td>-0.900492</td>\n",
       "    </tr>\n",
       "    <tr>\n",
       "      <th>score</th>\n",
       "      <td>-0.900492</td>\n",
       "      <td>1.000000</td>\n",
       "    </tr>\n",
       "  </tbody>\n",
       "</table>\n",
       "</div>"
      ],
      "text/plain": [
       "             created_dow     score\n",
       "created_dow     1.000000 -0.900492\n",
       "score          -0.900492  1.000000"
      ]
     },
     "execution_count": 92,
     "metadata": {},
     "output_type": "execute_result"
    }
   ],
   "source": [
    "stories[['created_dow', 'score']].corr()"
   ]
  },
  {
   "cell_type": "code",
   "execution_count": 93,
   "metadata": {
    "collapsed": true
   },
   "outputs": [
    {
     "data": {
      "text/html": [
       "<div>\n",
       "<style scoped>\n",
       "    .dataframe tbody tr th:only-of-type {\n",
       "        vertical-align: middle;\n",
       "    }\n",
       "\n",
       "    .dataframe tbody tr th {\n",
       "        vertical-align: top;\n",
       "    }\n",
       "\n",
       "    .dataframe thead th {\n",
       "        text-align: right;\n",
       "    }\n",
       "</style>\n",
       "<table border=\"1\" class=\"dataframe\">\n",
       "  <thead>\n",
       "    <tr style=\"text-align: right;\">\n",
       "      <th></th>\n",
       "      <th>karma</th>\n",
       "      <th>score</th>\n",
       "    </tr>\n",
       "  </thead>\n",
       "  <tbody>\n",
       "    <tr>\n",
       "      <th>karma</th>\n",
       "      <td>1.000000</td>\n",
       "      <td>0.075633</td>\n",
       "    </tr>\n",
       "    <tr>\n",
       "      <th>score</th>\n",
       "      <td>0.075633</td>\n",
       "      <td>1.000000</td>\n",
       "    </tr>\n",
       "  </tbody>\n",
       "</table>\n",
       "</div>"
      ],
      "text/plain": [
       "          karma     score\n",
       "karma  1.000000  0.075633\n",
       "score  0.075633  1.000000"
      ]
     },
     "execution_count": 93,
     "metadata": {},
     "output_type": "execute_result"
    }
   ],
   "source": [
    "stories[['karma', 'score']].corr()"
   ]
  },
  {
   "cell_type": "code",
   "execution_count": 94,
   "metadata": {
    "collapsed": true
   },
   "outputs": [
    {
     "data": {
      "text/html": [
       "<div>\n",
       "<style scoped>\n",
       "    .dataframe tbody tr th:only-of-type {\n",
       "        vertical-align: middle;\n",
       "    }\n",
       "\n",
       "    .dataframe tbody tr th {\n",
       "        vertical-align: top;\n",
       "    }\n",
       "\n",
       "    .dataframe thead th {\n",
       "        text-align: right;\n",
       "    }\n",
       "</style>\n",
       "<table border=\"1\" class=\"dataframe\">\n",
       "  <thead>\n",
       "    <tr style=\"text-align: right;\">\n",
       "      <th></th>\n",
       "      <th>comment_count</th>\n",
       "      <th>score</th>\n",
       "    </tr>\n",
       "  </thead>\n",
       "  <tbody>\n",
       "    <tr>\n",
       "      <th>comment_count</th>\n",
       "      <td>1.00000</td>\n",
       "      <td>0.74946</td>\n",
       "    </tr>\n",
       "    <tr>\n",
       "      <th>score</th>\n",
       "      <td>0.74946</td>\n",
       "      <td>1.00000</td>\n",
       "    </tr>\n",
       "  </tbody>\n",
       "</table>\n",
       "</div>"
      ],
      "text/plain": [
       "               comment_count    score\n",
       "comment_count        1.00000  0.74946\n",
       "score                0.74946  1.00000"
      ]
     },
     "execution_count": 94,
     "metadata": {},
     "output_type": "execute_result"
    }
   ],
   "source": [
    "stories[['comment_count', 'score']].corr()"
   ]
  },
  {
   "cell_type": "code",
   "execution_count": 95,
   "metadata": {
    "collapsed": true
   },
   "outputs": [
    {
     "data": {
      "text/html": [
       "<div>\n",
       "<style scoped>\n",
       "    .dataframe tbody tr th:only-of-type {\n",
       "        vertical-align: middle;\n",
       "    }\n",
       "\n",
       "    .dataframe tbody tr th {\n",
       "        vertical-align: top;\n",
       "    }\n",
       "\n",
       "    .dataframe thead th {\n",
       "        text-align: right;\n",
       "    }\n",
       "</style>\n",
       "<table border=\"1\" class=\"dataframe\">\n",
       "  <thead>\n",
       "    <tr style=\"text-align: right;\">\n",
       "      <th></th>\n",
       "      <th>hardware</th>\n",
       "      <th>score</th>\n",
       "    </tr>\n",
       "  </thead>\n",
       "  <tbody>\n",
       "    <tr>\n",
       "      <th>hardware</th>\n",
       "      <td>1.000000</td>\n",
       "      <td>-0.319139</td>\n",
       "    </tr>\n",
       "    <tr>\n",
       "      <th>score</th>\n",
       "      <td>-0.319139</td>\n",
       "      <td>1.000000</td>\n",
       "    </tr>\n",
       "  </tbody>\n",
       "</table>\n",
       "</div>"
      ],
      "text/plain": [
       "          hardware     score\n",
       "hardware  1.000000 -0.319139\n",
       "score    -0.319139  1.000000"
      ]
     },
     "execution_count": 95,
     "metadata": {},
     "output_type": "execute_result"
    }
   ],
   "source": [
    "stories[['hardware', 'score']].corr()"
   ]
  },
  {
   "cell_type": "markdown",
   "metadata": {},
   "source": [
    "## Exercise: can you find a more highly positive correlation?"
   ]
  },
  {
   "cell_type": "code",
   "execution_count": null,
   "metadata": {
    "collapsed": true
   },
   "outputs": [],
   "source": []
  },
  {
   "cell_type": "markdown",
   "metadata": {},
   "source": [
    "## We might also want/need to normalize scores. We can use a Scaler / MinMaxScaler or Normalizer"
   ]
  },
  {
   "cell_type": "code",
   "execution_count": null,
   "metadata": {
    "collapsed": true
   },
   "outputs": [],
   "source": [
    "normed_score = preprocessing.normalize(stories[['score']])"
   ]
  },
  {
   "cell_type": "code",
   "execution_count": null,
   "metadata": {
    "collapsed": true
   },
   "outputs": [],
   "source": [
    "normed_score[:5]"
   ]
  },
  {
   "cell_type": "markdown",
   "metadata": {},
   "source": [
    "#### hmm... maybe a min-max scaler works better for our needs!"
   ]
  },
  {
   "cell_type": "code",
   "execution_count": null,
   "metadata": {
    "collapsed": true
   },
   "outputs": [],
   "source": [
    "scaler = preprocessing.MinMaxScaler()"
   ]
  },
  {
   "cell_type": "code",
   "execution_count": null,
   "metadata": {
    "collapsed": true
   },
   "outputs": [],
   "source": [
    "scaled_score = scaler.fit_transform(stories[['score']])"
   ]
  },
  {
   "cell_type": "code",
   "execution_count": null,
   "metadata": {
    "collapsed": true
   },
   "outputs": [],
   "source": [
    "scaled_score[:5]"
   ]
  },
  {
   "cell_type": "code",
   "execution_count": null,
   "metadata": {
    "collapsed": true
   },
   "outputs": [],
   "source": [
    "stories['scaled_score'] = scaled_score[:,0]"
   ]
  },
  {
   "cell_type": "markdown",
   "metadata": {},
   "source": [
    "## Exercise: can you add a scaled or normalized karma score?"
   ]
  },
  {
   "cell_type": "code",
   "execution_count": null,
   "metadata": {
    "collapsed": true
   },
   "outputs": [],
   "source": []
  },
  {
   "cell_type": "markdown",
   "metadata": {},
   "source": [
    "## What else should we add?\n",
    "\n",
    "- fuzzywuzzy to find match of title with topics\n",
    "- add normalization or scaling to comments\n",
    "- extract domain name\n",
    "- number of words in the title\n",
    "- number of capitalized words in the title\n",
    "- use NLP to extract named entities from the title\n",
    "- what else?"
   ]
  },
  {
   "cell_type": "code",
   "execution_count": null,
   "metadata": {
    "collapsed": true
   },
   "outputs": [],
   "source": []
  }
 ],
 "metadata": {
  "kernelspec": {
   "display_name": "Python 3",
   "language": "python",
   "name": "python3"
  },
  "language_info": {
   "codemirror_mode": {
    "name": "ipython",
    "version": 3
   },
   "file_extension": ".py",
   "mimetype": "text/x-python",
   "name": "python",
   "nbconvert_exporter": "python",
   "pygments_lexer": "ipython3",
   "version": "3.6.3"
  }
 },
 "nbformat": 4,
 "nbformat_minor": 2
}
